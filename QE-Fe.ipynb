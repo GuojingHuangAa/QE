{
 "cells": [
  {
   "cell_type": "code",
   "execution_count": 29,
   "id": "b4515eba-dbca-4bc9-bb95-706291a2ec57",
   "metadata": {},
   "outputs": [],
   "source": [
    "from ase.calculators.espresso import Espresso, EspressoProfile\n",
    "from ase.build import bulk\n",
    "from ase.visualize import view\n",
    "import ase\n",
    "# from ase.io.espresso import read_espresso_in"
   ]
  },
  {
   "cell_type": "code",
   "execution_count": 23,
   "id": "edcddb37-bb57-4b1f-9daf-3781141dddfe",
   "metadata": {},
   "outputs": [],
   "source": [
    "# Fe = bulk('Fe', crystalstructure='bcc', cubic= True)"
   ]
  },
  {
   "cell_type": "code",
   "execution_count": 33,
   "id": "d56cf53f-f27b-4d9e-9d2a-382bb6350fe2",
   "metadata": {},
   "outputs": [],
   "source": [
    "profile = EspressoProfile(binary='/home/gu.huang/qe/qe-7.2/bin/pw.x', pseudo_dir='/home/gu.huang/QE_project/Pseudo')"
   ]
  },
  {
   "cell_type": "code",
   "execution_count": 38,
   "id": "1fd2e139-8c12-4ab0-b22c-66e407cda401",
   "metadata": {},
   "outputs": [],
   "source": [
    "pp = {'Fe': 'Fe.pbe-spn-kjpaw_psl.0.2.1.UPF']\n",
    "# pp = {'C': 'C.pbe-n-kjpaw_psl.1.0.0.UPF'}"
   ]
  },
  {
   "cell_type": "code",
   "execution_count": 103,
   "id": "4ab82c80-2d83-4fe2-b43b-754145460f92",
   "metadata": {},
   "outputs": [],
   "source": [
    "# input_data = {\n",
    "#     'calculation': 'scf',\n",
    "#     'restart_mode': 'from_scratch',\n",
    "#     \"occupations\": \"smearing\",\n",
    "#     \"degauss\": 0.02,\n",
    "#     \"conv_thr\": 1e-8,\n",
    "#     \"mixing_beta\": 0.7,\n",
    "#     \"prefix\": 'graphene',\n",
    "#     \"smearing\": \"mv\",\n",
    "#     'pseudo_dir': '/home/gu.huang/QE_project/Pseudo/',\n",
    "#     \"ecutwfc\": 60\n",
    "# }"
   ]
  },
  {
   "cell_type": "code",
   "execution_count": 104,
   "id": "4d6ef66f-556f-49a5-8b90-bd1b9c1d3391",
   "metadata": {},
   "outputs": [],
   "source": [
    "# Espresso?"
   ]
  },
  {
   "cell_type": "code",
   "execution_count": 105,
   "id": "1001718b-90c1-41ab-829d-6aa922d4e84f",
   "metadata": {},
   "outputs": [],
   "source": [
    "# calc = Espresso(profile=profile, pseudopotentials = pp, input_data = input_data, kpts = (3,3,3))"
   ]
  },
  {
   "cell_type": "code",
   "execution_count": 99,
   "id": "65db382f-c49e-4837-86bb-2c83021fe16f",
   "metadata": {},
   "outputs": [],
   "source": [
    "# from ase.io.espresso import write_espresso_in"
   ]
  },
  {
   "cell_type": "code",
   "execution_count": 100,
   "id": "2ce43f19-aedc-489b-8d5a-e17b2438312f",
   "metadata": {},
   "outputs": [],
   "source": [
    "# write_espresso_in(\"C.in\", graphene, input_data=input_data, format=\"espresso-in\", \n",
    "#                   pseudopotentials = pp,\n",
    "#                   kpts = (10,10,1),\n",
    "#                  )"
   ]
  },
  {
   "cell_type": "code",
   "execution_count": 101,
   "id": "1608d359-2eba-4d77-82ea-a9fcd3b39e10",
   "metadata": {},
   "outputs": [],
   "source": [
    "# %rm C*"
   ]
  },
  {
   "cell_type": "code",
   "execution_count": 109,
   "id": "909d8cca-8e17-4acf-b973-bc879e2f5e65",
   "metadata": {},
   "outputs": [],
   "source": [
    "from ase.units import Rydberg"
   ]
  },
  {
   "cell_type": "code",
   "execution_count": null,
   "id": "2c5eb25a-0a43-408b-a05b-83b3eabde5a0",
   "metadata": {},
   "outputs": [],
   "source": [
    "# &IONS\n",
    "# ion_dynamics='bfgs',\n",
    "# /\n",
    "# &CELL\n",
    "# cell_dynamics='bfgs',\n",
    "# press=0.0,\n",
    "# press_conv_thr=0.5,\n",
    "# /"
   ]
  },
  {
   "cell_type": "markdown",
   "id": "13d497b5-4721-48f5-8939-b007c9876f25",
   "metadata": {},
   "source": [
    "1. scf calculation"
   ]
  },
  {
   "cell_type": "code",
   "execution_count": 111,
   "id": "4979ce80-5ab4-4c6b-aa46-8c337ff3ac33",
   "metadata": {},
   "outputs": [],
   "source": [
    "Fe = bulk('Fe', crystalstructure='bcc', cubic=True)"
   ]
  },
  {
   "cell_type": "code",
   "execution_count": 186,
   "id": "07ee18ae-f148-417d-b6df-3cf5b8683f91",
   "metadata": {},
   "outputs": [],
   "source": [
    "input_data = {\n",
    "    'calculation': 'scf',\n",
    "    'restart_mode': 'from_scratch',\n",
    "    \"prefix\": 'Fe_bcc',\n",
    "    'pseudo_dir': '/home/gu.huang/QE_project/Pseudo/',\n",
    "\n",
    "    \"ecutwfc\": 30,\n",
    "    \"occupations\": \"smearing\",\n",
    "    \"smearing\": \"gaussian\",\n",
    "    \"degauss\": 0.02,\n",
    "    \n",
    "    \"conv_thr\": 1e-9,\n",
    "    \"mixing_beta\": 0.7\n",
    "}"
   ]
  },
  {
   "cell_type": "code",
   "execution_count": 187,
   "id": "0e5c8656-099b-4282-bda7-cea25264ee9a",
   "metadata": {},
   "outputs": [],
   "source": [
    "pp = {'Fe': 'Fe.pbe-spn-kjpaw_psl.0.2.1.UPF'}"
   ]
  },
  {
   "cell_type": "code",
   "execution_count": 165,
   "id": "6facdae2-ae43-4fda-9c66-5d282c0fd248",
   "metadata": {},
   "outputs": [],
   "source": [
    "write_espresso_in(\"Fe.in\", Fe, input_data=input_data, format=\"espresso-in\", \n",
    "                  pseudopotentials = pp,\n",
    "                  kpts = (10,10,1),\n",
    "                 )"
   ]
  },
  {
   "cell_type": "code",
   "execution_count": 166,
   "id": "045d6d4f-e53c-4dc6-9c5d-f4634adcc4b7",
   "metadata": {},
   "outputs": [
    {
     "data": {
      "text/plain": [
       "'/home/gu.huang/ProjectGuojing/Codes/QE/bccFe'"
      ]
     },
     "execution_count": 166,
     "metadata": {},
     "output_type": "execute_result"
    }
   ],
   "source": [
    "%pwd"
   ]
  },
  {
   "cell_type": "code",
   "execution_count": 188,
   "id": "079bff83-43a9-47c2-a321-73e4e687c243",
   "metadata": {},
   "outputs": [
    {
     "data": {
      "text/plain": [
       "{'calculation': 'scf',\n",
       " 'restart_mode': 'from_scratch',\n",
       " 'prefix': 'Fe_bcc',\n",
       " 'pseudo_dir': '/home/gu.huang/QE_project/Pseudo/',\n",
       " 'ecutwfc': 30,\n",
       " 'occupations': 'smearing',\n",
       " 'smearing': 'gaussian',\n",
       " 'degauss': 0.02,\n",
       " 'conv_thr': 1e-09,\n",
       " 'mixing_beta': 0.7}"
      ]
     },
     "execution_count": 188,
     "metadata": {},
     "output_type": "execute_result"
    }
   ],
   "source": [
    "input_data"
   ]
  },
  {
   "cell_type": "code",
   "execution_count": 189,
   "id": "33b46b20-4abc-49a7-a245-335a6071422c",
   "metadata": {},
   "outputs": [],
   "source": [
    "espresso = Espresso(profile=profile,\n",
    "                   input_data = input_data,\n",
    "                   pseudopotentials = pp,\n",
    "                   kpts = [4,4,4])"
   ]
  },
  {
   "cell_type": "code",
   "execution_count": 190,
   "id": "3a502240-dfd3-4001-abf1-bdb74805660b",
   "metadata": {},
   "outputs": [],
   "source": [
    "Fe.calc = espresso"
   ]
  },
  {
   "cell_type": "code",
   "execution_count": 191,
   "id": "78c602a3-71d9-4ae7-a1b7-df5582e220a0",
   "metadata": {},
   "outputs": [
    {
     "data": {
      "text/plain": [
       "-8959.656417817956"
      ]
     },
     "execution_count": 191,
     "metadata": {},
     "output_type": "execute_result"
    }
   ],
   "source": [
    "Fe.get_total_energy()"
   ]
  },
  {
   "cell_type": "code",
   "execution_count": 192,
   "id": "318d8050-6ec4-44e3-8d70-8e81eedca088",
   "metadata": {},
   "outputs": [
    {
     "data": {
      "text/plain": [
       "-658.5226059264137"
      ]
     },
     "execution_count": 192,
     "metadata": {},
     "output_type": "execute_result"
    }
   ],
   "source": [
    "-8959.656417817956 / Rydberg"
   ]
  },
  {
   "cell_type": "code",
   "execution_count": 126,
   "id": "48e61c47-d598-477e-ac85-23c783767577",
   "metadata": {},
   "outputs": [
    {
     "data": {
      "text/plain": [
       "Cell([2.87, 2.87, 2.87])"
      ]
     },
     "execution_count": 126,
     "metadata": {},
     "output_type": "execute_result"
    }
   ],
   "source": [
    "Fe.get_cell()"
   ]
  },
  {
   "cell_type": "markdown",
   "id": "e5e60ad7-3dad-4084-bf95-1adb126c56c9",
   "metadata": {},
   "source": [
    "2. ecut, kpoints convergence"
   ]
  },
  {
   "cell_type": "code",
   "execution_count": 193,
   "id": "e28d55f5-a84b-4c60-a47e-9fa7193fd313",
   "metadata": {},
   "outputs": [],
   "source": [
    "E = []\n",
    "ecut = [30, 40, 50 ,60 ,70, 80, 90 ,100]\n",
    "for e in ecut:\n",
    "    input_data['ecutwfc'] = e\n",
    "    espresso = Espresso(profile=profile,\n",
    "                   input_data = input_data,\n",
    "                   pseudopotentials = pp,\n",
    "                   kpts = [4,4,4],)\n",
    "    Fe.calc = espresso\n",
    "    try:\n",
    "        ee = Fe.get_total_energy() / Rydberg\n",
    "        E.append(ee)\n",
    "    except:\n",
    "        continue"
   ]
  },
  {
   "cell_type": "code",
   "execution_count": 194,
   "id": "d84a883b-1ad8-4eed-99f6-8e814c274d66",
   "metadata": {},
   "outputs": [
    {
     "data": {
      "text/plain": [
       "[-658.5226059264137,\n",
       " -658.6034965299962,\n",
       " -658.5454982845976,\n",
       " -658.5293682258772,\n",
       " -658.5359819753525,\n",
       " -658.5388845351222,\n",
       " -658.5380636151873,\n",
       " -658.5374432452365]"
      ]
     },
     "execution_count": 194,
     "metadata": {},
     "output_type": "execute_result"
    }
   ],
   "source": [
    "E"
   ]
  },
  {
   "cell_type": "code",
   "execution_count": 195,
   "id": "82138eb8-e6e5-4bdc-be3e-632d1268993c",
   "metadata": {},
   "outputs": [],
   "source": [
    "import matplotlib.pylab as plt"
   ]
  },
  {
   "cell_type": "code",
   "execution_count": 196,
   "id": "4301971d-d9f3-49f1-81db-340ef3dff7ec",
   "metadata": {},
   "outputs": [
    {
     "data": {
      "text/plain": [
       "[<matplotlib.lines.Line2D at 0x73944ac71280>]"
      ]
     },
     "execution_count": 196,
     "metadata": {},
     "output_type": "execute_result"
    },
    {
     "data": {
      "image/png": "[encoded data removed]",
      "text/plain": [
       "<Figure size 640x480 with 1 Axes>"
      ]
     },
     "metadata": {},
     "output_type": "display_data"
    }
   ],
   "source": [
    "plt.plot(ecut, E, 'o--')"
   ]
  },
  {
   "cell_type": "code",
   "execution_count": null,
   "id": "362b858a-ac11-4583-9a01-b0a87752e8fc",
   "metadata": {},
   "outputs": [],
   "source": []
  },
  {
   "cell_type": "code",
   "execution_count": null,
   "id": "e9ec1eac-075c-4a38-a7a4-52547074151d",
   "metadata": {},
   "outputs": [],
   "source": []
  },
  {
   "cell_type": "code",
   "execution_count": 205,
   "id": "c5b9d4bf-079c-4285-8afc-3dbf32da735d",
   "metadata": {},
   "outputs": [
    {
     "name": "stdout",
     "output_type": "stream",
     "text": [
      "[30, -329.26130296320684]\n",
      "[40, -329.3017482649981]\n",
      "[50, -329.2727491422988]\n",
      "[60, -329.2646841129386]\n",
      "[70, -329.2679909876762]\n",
      "[80, -329.2694422675611]\n",
      "[90, -329.26903180759365]\n",
      "[100, -329.2687216226183]\n",
      "[110, -329.2689947175966]\n",
      "Convergence reached\n"
     ]
    }
   ],
   "source": [
    "tol  = 5E-4\n",
    "kpts = [4, 4, 4]\n",
    "\n",
    "energy = []\n",
    "Fe = bulk(\"Fe\", crystalstructure='bcc', cubic=True)\n",
    "\n",
    "profile = EspressoProfile(binary='/home/gu.huang/qe/qe-7.2/bin/pw.x', pseudo_dir='/home/gu.huang/QE_project/Pseudo')\n",
    "pp = {'Fe': 'Fe.pbe-spn-kjpaw_psl.0.2.1.UPF'}\n",
    "input_data = {\n",
    "    'calculation': 'scf',\n",
    "    'restart_mode': 'from_scratch',\n",
    "    \"prefix\": 'Fe_bcc',\n",
    "    'pseudo_dir': '/home/gu.huang/QE_project/Pseudo/',\n",
    "\n",
    "    \"ecutwfc\": 30,\n",
    "    \"occupations\": \"smearing\",\n",
    "    \"smearing\": \"gaussian\",\n",
    "    \"degauss\": 0.02,\n",
    "    \n",
    "    \"conv_thr\": 1e-9,\n",
    "    \"mixing_beta\": 0.7\n",
    "}\n",
    "ecut = 30\n",
    "\n",
    "while True:\n",
    "    input_data['ecutwfc'] = ecut\n",
    "    calc = Espresso(profile=profile,\n",
    "                input_data=input_data,\n",
    "                pseudopotentials = pp,\n",
    "                kpts = [4,4,4])\n",
    "    Fe.calc = calc\n",
    "    e = Fe.get_total_energy()\n",
    "    energy.append([ecut, e/len(Fe)/Rydberg])\n",
    "    print(energy[-1])\n",
    "    if len(energy) > 3:\n",
    "        cutoff, e = zip(*energy[-3:])\n",
    "        e1, e2, e3 = e\n",
    "        if abs(e1-e3) < tol and abs(e2-e3) < tol:\n",
    "            print(\"Convergence reached\")\n",
    "            break\n",
    "    ecut += 10"
   ]
  },
  {
   "cell_type": "code",
   "execution_count": 207,
   "id": "b53e77ce-1240-41a4-9a2a-4cf697c0e83f",
   "metadata": {},
   "outputs": [],
   "source": [
    "cutoffs = []\n",
    "energies = []\n",
    "for i in range(len(energy)):\n",
    "    cutoffs.append(energy[i][0])\n",
    "    energies.append(energy[i][1])"
   ]
  },
  {
   "cell_type": "code",
   "execution_count": 241,
   "id": "53afcf3b-2049-4c15-9039-ccb2c685eab1",
   "metadata": {},
   "outputs": [
    {
     "data": {
      "image/png": "[encoded data removed]",
      "text/plain": [
       "<Figure size 640x480 with 1 Axes>"
      ]
     },
     "metadata": {},
     "output_type": "display_data"
    }
   ],
   "source": [
    "plt.plot(cutoffs, energies,\"o--\")\n",
    "plt.xlabel(\"pw cutoff (eV)\")\n",
    "plt.ylabel(\"total energy (eV/atom)\")\n",
    "plt.tight_layout()\n",
    "plt.ylim([energies[-1]-0.04, energies[-1]+0.02])\n",
    "plt.axhline(y=energies[-1]-tol, c=\"k\", ls=\"--\")\n",
    "plt.axhline(y=energies[-1]+tol, c=\"k\", ls=\"--\")\n",
    "\n",
    "plt.show()"
   ]
  },
  {
   "cell_type": "code",
   "execution_count": null,
   "id": "591cc891-5086-4fd3-a38a-33577a855989",
   "metadata": {},
   "outputs": [],
   "source": []
  },
  {
   "cell_type": "code",
   "execution_count": 250,
   "id": "d67e8ebf-ec11-4f36-a6b6-23e942551611",
   "metadata": {},
   "outputs": [
    {
     "name": "stdout",
     "output_type": "stream",
     "text": [
      "[2, -329.20270731785547]\n",
      "[3, -329.2794528517669]\n",
      "[4, -329.2687216226183]\n",
      "[5, -329.2732486022591]\n",
      "[6, -329.27227170733664]\n",
      "[7, -329.272494712319]\n",
      "[8, -329.2723622023295]\n",
      "Convergence reached\n"
     ]
    }
   ],
   "source": [
    "input_data['ecutwfc'] = 100\n",
    "kpt = 2\n",
    "kpts = []\n",
    "energy = []\n",
    "\n",
    "while True:\n",
    "    calc = Espresso(profile=profile,\n",
    "                input_data=input_data,\n",
    "                pseudopotentials = pp,\n",
    "                kpts = [kpt, kpt, kpt])\n",
    "    Fe.calc = calc\n",
    "    e = Fe.get_total_energy()\n",
    "    energy.append([kpt, e/len(Fe)/Rydberg])\n",
    "    print(energy[-1])\n",
    "    if len(energy) > 3:\n",
    "        k, e = zip(*energy[-3:])\n",
    "        e1, e2, e3 = e\n",
    "        if abs(e1-e3) < tol and abs(e2-e3) < tol:\n",
    "            print(\"Convergence reached\")\n",
    "            break\n",
    "    kpt+=1   "
   ]
  },
  {
   "cell_type": "code",
   "execution_count": 251,
   "id": "d498fbfe-d827-425b-b224-6b75b62dc17d",
   "metadata": {},
   "outputs": [],
   "source": [
    "kpts = []\n",
    "energies = []\n",
    "for i in range(len(energy)):\n",
    "    kpts.append(energy[i][0])\n",
    "    energies.append(energy[i][1])"
   ]
  },
  {
   "cell_type": "code",
   "execution_count": 257,
   "id": "37d5a40d-d35d-4b0c-be69-75ad53919e6f",
   "metadata": {},
   "outputs": [
    {
     "data": {
      "image/png": "[encoded data removed]",
      "text/plain": [
       "<Figure size 640x480 with 1 Axes>"
      ]
     },
     "metadata": {},
     "output_type": "display_data"
    }
   ],
   "source": [
    "plt.plot(kpts, energies,\"o--\")\n",
    "plt.xlabel(\"pw cutoff (eV)\")\n",
    "plt.ylabel(\"total energy (eV/atom)\")\n",
    "plt.tight_layout()\n",
    "plt.ylim([energies[-1]-0.02, energies[-1]+0.08])\n",
    "plt.axhline(y=energies[-1]-tol, c=\"k\", ls=\"--\")\n",
    "plt.axhline(y=energies[-1]+tol, c=\"k\", ls=\"--\")\n",
    "\n",
    "plt.show()"
   ]
  },
  {
   "cell_type": "code",
   "execution_count": null,
   "id": "b1b759e2-a6a5-4d4f-8fba-1b392afa3307",
   "metadata": {},
   "outputs": [],
   "source": []
  },
  {
   "cell_type": "code",
   "execution_count": 258,
   "id": "f13e83da-5cfa-4b24-a595-094fbc8e3485",
   "metadata": {},
   "outputs": [],
   "source": [
    "ecut = 100\n",
    "kpts = [6, 6, 6]"
   ]
  },
  {
   "cell_type": "code",
   "execution_count": null,
   "id": "d34d8d58-e2d6-4960-af8f-20535e71d569",
   "metadata": {},
   "outputs": [],
   "source": []
  },
  {
   "cell_type": "markdown",
   "id": "aaeb1797-c297-44b6-a7d1-d1c1c8a0363a",
   "metadata": {},
   "source": [
    "3. relaxation"
   ]
  },
  {
   "cell_type": "code",
   "execution_count": 283,
   "id": "b62a1028-0517-4a15-874c-01917bffbc5c",
   "metadata": {},
   "outputs": [],
   "source": [
    "input_data.update({'calculation': 'vc-relax', \n",
    "                   'ion_dynamics': 'bfgs',\n",
    "                   'cell_dynamics': 'bfgs',\n",
    "                   'press': 0.0,\n",
    "                   'press_conv_thr': 0.5,\n",
    "                  })\n",
    "input_data\n",
    "calc = Espresso(\n",
    "    profile=profile,\n",
    "    pseudopotentials = pp,\n",
    "    input_data = input_data,\n",
    "    kpts = [6,6,6]\n",
    ")\n",
    "Fe.calc = calc"
   ]
  },
  {
   "cell_type": "code",
   "execution_count": 284,
   "id": "d9f236b7-dc04-47b1-a953-d40562152052",
   "metadata": {},
   "outputs": [
    {
     "data": {
      "text/plain": [
       "{'calculation': 'vc-relax',\n",
       " 'restart_mode': 'from_scratch',\n",
       " 'prefix': 'Fe_bcc',\n",
       " 'pseudo_dir': '/home/gu.huang/QE_project/Pseudo/',\n",
       " 'ecutwfc': 100,\n",
       " 'occupations': 'smearing',\n",
       " 'smearing': 'gaussian',\n",
       " 'degauss': 0.02,\n",
       " 'conv_thr': 1e-09,\n",
       " 'mixing_beta': 0.7,\n",
       " 'ion_dynamics': 'bfgs',\n",
       " 'cell_dynamics': 'bfgs',\n",
       " 'press': 0.0,\n",
       " 'press_conv_thr': 0.5}"
      ]
     },
     "execution_count": 284,
     "metadata": {},
     "output_type": "execute_result"
    }
   ],
   "source": [
    "input_data"
   ]
  },
  {
   "cell_type": "code",
   "execution_count": 285,
   "id": "a8a708dd-bbc8-431d-b7e2-9738466d2ffc",
   "metadata": {},
   "outputs": [],
   "source": [
    "# Espresso?"
   ]
  },
  {
   "cell_type": "code",
   "execution_count": 286,
   "id": "4e73b916-3e98-43cb-8cc6-e47274039343",
   "metadata": {},
   "outputs": [],
   "source": [
    "from ase.optimize import BFGS"
   ]
  },
  {
   "cell_type": "code",
   "execution_count": 287,
   "id": "9d292f18-51d9-45e5-862e-84c7459b28fe",
   "metadata": {},
   "outputs": [
    {
     "data": {
      "text/plain": [
       "-8959.977175950922"
      ]
     },
     "execution_count": 287,
     "metadata": {},
     "output_type": "execute_result"
    }
   ],
   "source": [
    "Fe.get_total_energy()"
   ]
  },
  {
   "cell_type": "code",
   "execution_count": 288,
   "id": "fad9b15d-a16f-4811-bc31-2cbd45af39c1",
   "metadata": {},
   "outputs": [
    {
     "name": "stdout",
     "output_type": "stream",
     "text": [
      "      Step     Time          Energy          fmax\n",
      "BFGS:    0 15:33:57    -8959.977176        0.000000\n"
     ]
    },
    {
     "data": {
      "text/plain": [
       "True"
      ]
     },
     "execution_count": 288,
     "metadata": {},
     "output_type": "execute_result"
    }
   ],
   "source": [
    "opt = BFGS(Fe)\n",
    "opt.run()"
   ]
  },
  {
   "cell_type": "code",
   "execution_count": 270,
   "id": "462b340f-d0cd-48c1-948b-7109c2e1f971",
   "metadata": {},
   "outputs": [
    {
     "data": {
      "text/plain": [
       "2.87"
      ]
     },
     "execution_count": 270,
     "metadata": {},
     "output_type": "execute_result"
    }
   ],
   "source": [
    "Fe.get_cell()"
   ]
  },
  {
   "cell_type": "code",
   "execution_count": 275,
   "id": "542078b3-6f63-4cad-8435-92c2d33f6913",
   "metadata": {},
   "outputs": [],
   "source": [
    "write_espresso_in('relax.in', Fe, input_data=input_data, pseudopotentials=pp, kpts=[6,6,6],crystal_coordinates= True)"
   ]
  },
  {
   "cell_type": "code",
   "execution_count": 276,
   "id": "a1a05d26-d42b-4f22-91bf-5a264f835748",
   "metadata": {},
   "outputs": [
    {
     "data": {
      "text/plain": [
       "'/home/gu.huang/ProjectGuojing/Codes/QE/bccFe'"
      ]
     },
     "execution_count": 276,
     "metadata": {},
     "output_type": "execute_result"
    }
   ],
   "source": [
    "%pwd"
   ]
  },
  {
   "cell_type": "code",
   "execution_count": 289,
   "id": "1768a16c-3d4c-41a2-861f-6c209ce0d30a",
   "metadata": {},
   "outputs": [],
   "source": [
    "Fe1 = Fe.copy()\n",
    "Fe1.rattle(stdev = 0.1)"
   ]
  },
  {
   "cell_type": "code",
   "execution_count": 291,
   "id": "17a35fee-a993-44c2-b1f5-dff318276497",
   "metadata": {},
   "outputs": [
    {
     "data": {
      "text/plain": [
       "-8959.97769936189"
      ]
     },
     "execution_count": 291,
     "metadata": {},
     "output_type": "execute_result"
    }
   ],
   "source": [
    "Fe1.calc = calc\n",
    "Fe1.get_total_energy()"
   ]
  },
  {
   "cell_type": "code",
   "execution_count": 292,
   "id": "c9e330a9-f906-4b08-ae6e-f491f1af4280",
   "metadata": {},
   "outputs": [
    {
     "name": "stdout",
     "output_type": "stream",
     "text": [
      "      Step     Time          Energy          fmax\n",
      "BFGS:    0 16:39:23    -8959.977699        0.002141\n"
     ]
    },
    {
     "data": {
      "text/plain": [
       "True"
      ]
     },
     "execution_count": 292,
     "metadata": {},
     "output_type": "execute_result"
    }
   ],
   "source": [
    "opt = BFGS(Fe1)\n",
    "opt.run()"
   ]
  },
  {
   "cell_type": "code",
   "execution_count": null,
   "id": "bf7c8e66-5ba6-409d-b6b2-a65be9d55696",
   "metadata": {},
   "outputs": [],
   "source": []
  }
 ],
 "metadata": {
  "kernelspec": {
   "display_name": "Python 3 (ipykernel)",
   "language": "python",
   "name": "python3"
  },
  "language_info": {
   "codemirror_mode": {
    "name": "ipython",
    "version": 3
   },
   "file_extension": ".py",
   "mimetype": "text/x-python",
   "name": "python",
   "nbconvert_exporter": "python",
   "pygments_lexer": "ipython3",
   "version": "3.12.3"
  }
 },
 "nbformat": 4,
 "nbformat_minor": 5
}
